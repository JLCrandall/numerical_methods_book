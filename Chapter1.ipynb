{
 "metadata": {
  "name": ""
 },
 "nbformat": 3,
 "nbformat_minor": 0,
 "worksheets": [
  {
   "cells": [
    {
     "cell_type": "markdown",
     "metadata": {},
     "source": [
      "## Computer Preliminaries and Error Descriptors\n",
      "\n",
      "Unfortunately computers can't store numbers with infinite precision, but instead use an approximation that can be packed into a fixed number of bits.  These bits can be arranged to represent different data types usually called fixed point numbers or integers and floating point numbers.  Of most importance to us as numerical analysts are floating point numbers.  \n",
      "\n",
      "A floating point number is represented within the computer as a bit sign (positive or negative), an integer number representing the number of significant digits called the significand or mantissa, and an integer exponent.  Symbolically, we might write:\n",
      "\n",
      "$$\n",
      "s \\times M \\times B^{sE}\n",
      "$$\n",
      "\n",
      "where, $s$ is the sign, $M$ is the mantissa, $B$ is called the base usually $2$, but sometimes $10$ or $16$, and $E$ is the integer exponent.\n",
      "\n",
      "The smallest floating point number which, when added to the floating point number $1.0$, produces a result different than $1.0$ is called the machine precision or machine epsilon, $\\epsilon_{m}$.  Most modern computers have a machine epsilon value somewhere around $2^{-53}$ $(1.11 \\times 10^{-16})$, although $\\epsilon_{m}$ can range depending on the base and the bit wordlength (32-bit, 64-bit, etc.)\n",
      "\n",
      "Almost any arithmetic between floating point numbers will produce an additional fraction error of size $\\epsilon_{m}$, this error is called roundoff error.  Numpy has a special function that can report what $\\epsilon_{m}$ is for the machine we are using: "
     ]
    },
    {
     "cell_type": "code",
     "collapsed": false,
     "input": [
      "import numpy as np\n",
      "print np.finfo(np.float).eps"
     ],
     "language": "python",
     "metadata": {},
     "outputs": [
      {
       "output_type": "stream",
       "stream": "stdout",
       "text": [
        "2.22044604925e-16\n"
       ]
      }
     ],
     "prompt_number": 1
    },
    {
     "cell_type": "markdown",
     "metadata": {},
     "source": [
      "## The Numerical Analyst's Enemy:  Roundoff Error\n",
      "\n",
      "Roundoff error, is a characteristic of computer hardware; however there is another type of error that is completely a result of the algorithm or software.\n",
      "\n",
      "Most numerical algorithms compute discrete approximations to a continuous desired quantity.  An example of this is the use of the Taylor series to approximate the function $\\sin{(x)}$. The Taylor series approximation of the function is as follows:\n",
      "\n",
      "$$\n",
      "\\sin{(x)} = x - \\frac{x^3}{3!}+\\frac{x^5}{5!}-\\frac{x^7}{7!} \\dots \n",
      "$$\n",
      "\n",
      "Of course, this representation requires that the series be infinite for the solution to be exact.  Even the best computers cannot evaluate an infinite number of terms in the Taylor series therefore we must take a finite number of terms for the approximation.  The difference between the approximated answer and the exact solution is called the truncation error.  Let's take a look at some numerics, we all know that $\\sin{(\\frac{\\pi}{2})} = 1$.\n",
      "\n",
      "We start by defining a function representing the Taylor series expansion of sin(x)."
     ]
    },
    {
     "cell_type": "code",
     "collapsed": false,
     "input": [
      "import sympy\n",
      "sympy.init_printing()\n",
      "x = sympy.Symbol('x')"
     ],
     "language": "python",
     "metadata": {},
     "outputs": [],
     "prompt_number": 2
    },
    {
     "cell_type": "code",
     "collapsed": false,
     "input": [
      "sympy.series(sympy.sin(x),x,n=10)"
     ],
     "language": "python",
     "metadata": {},
     "outputs": [
      {
       "latex": [
        "$$x - \\frac{x^{3}}{6} + \\frac{x^{5}}{120} - \\frac{x^{7}}{5040} + \\frac{x^{9}}{362880} + \\mathcal{O}\\left(x^{10}\\right)$$"
       ],
       "metadata": {},
       "output_type": "pyout",
       "png": "[encoded data removed]",
       "prompt_number": 4,
       "text": [
        "     3     5     7       9           \n",
        "    x     x     x       x       \u239b 10\u239e\n",
        "x - \u2500\u2500 + \u2500\u2500\u2500 - \u2500\u2500\u2500\u2500 + \u2500\u2500\u2500\u2500\u2500\u2500 + O\u239dx  \u23a0\n",
        "    6    120   5040   362880         "
       ]
      }
     ],
     "prompt_number": 4
    },
    {
     "cell_type": "code",
     "collapsed": false,
     "input": [
      "from IPython.html."
     ],
     "language": "python",
     "metadata": {},
     "outputs": [],
     "prompt_number": 6
    },
    {
     "cell_type": "markdown",
     "metadata": {},
     "source": [
      "By evaluating the function above at $x = \\pi/2$ and subtracting it from 1 we can see how the truncation error evolves as we add more terms in the Taylor series."
     ]
    },
    {
     "cell_type": "code",
     "collapsed": false,
     "input": [
      "*** PLACEHOLDER FOR GRAPHIC ***"
     ],
     "language": "python",
     "metadata": {},
     "outputs": []
    },
    {
     "cell_type": "markdown",
     "metadata": {},
     "source": [
      "Here is an interesting visualization of how the difference between the two functions evolve as we add more terms of the Taylor series. The truncation error is visualized as the maximum difference between the two curves."
     ]
    },
    {
     "cell_type": "code",
     "collapsed": false,
     "input": [
      "*** PLACEHOLDER FOR GRAPHIC ***"
     ],
     "language": "python",
     "metadata": {},
     "outputs": []
    },
    {
     "cell_type": "markdown",
     "metadata": {},
     "source": [
      "The minimization of truncation error is one of the main goals of numerical analysis."
     ]
    },
    {
     "cell_type": "markdown",
     "metadata": {},
     "source": [
      "## Stability\n",
      "\n",
      "Usually roundoff error and truncation error do not interact with each other, but sometimes roundoff error can cause a numerical algorithm to become *unstable*. This happens when roundoff error gets mixed into the calculation and is magnified as it continues. Let's look at an example:\n",
      "\n",
      "Suppose we want to calculate the powers of the so called \"Golden Mean\"\n",
      "\n",
      "$\\phi = \\frac{\\sqrt{5}-1}{2}$\n",
      "\n",
      "It can be verified that the power of $\\phi^n$ can be calculated using the simple recusion relationship,\n",
      "\n",
      "$\\phi^{n+1} = \\phi^{n-1} - \\phi^n$\n",
      "\n",
      "Therefore by calcuating $\\phi^0 = 1$ and $\\phi^1 = 0.618034$ and successively applying the recusion relationship we should be able to calculate as many powers as desired. Let's see this in action:\n",
      "\n",
      "First we'll calculate what we will call the \"exact\" answer by actually evaluating all the power individually.\n",
      "\n",
      "$$\n",
      "\\phi exact = Table [(\\frac{\\sqrt5 - 1}{2})^n , \\{n, 0, 80\\}];\n",
      "$$\n",
      "\n",
      "Next we will calculate the first 2 powers and use the recursion formula to evaluate the rest.\n",
      "\n",
      "$$\n",
      "\\phi recursion = Join [\\{1,\\frac{\\sqrt{5}-1}{2}\\},ConstantArray[0,79]];\n",
      "$$\n",
      "\n",
      "Do\n",
      "\n",
      "$$\n",
      "\\phi recusion[[n+1]]=\\phi recursion[[n-1]] - \\phi recursion[[n]],\\{n,2,70\\}]\n",
      "$$"
     ]
    },
    {
     "cell_type": "code",
     "collapsed": false,
     "input": [
      "*** PLACEHOLDER FOR GRAPHIC ***"
     ],
     "language": "python",
     "metadata": {},
     "outputs": []
    },
    {
     "cell_type": "markdown",
     "metadata": {},
     "source": [
      "The recusion relationship is unstable and cannot be used as stated to solve this problem. Stability of algorithms is something we always need to be aware of as numerical analysts.\n",
      "\n",
      "## Psuedocode\n",
      "Psuedocode is a compact and informal way of describing a numerical algorithm. It utilizes the conventional structure of a programming language (loops, conditional statements, etc.) but is intended for human reading.\n",
      "\n",
      "## Conventional Programming Structures\n",
      "**Do Loops and For Loops:** These two structures essentially do the same thing in a slightly different way. They are used when you want to do something in sequance for a set number of iterations. Let's look at a couple of examples using #####*Python*#####."
     ]
    },
    {
     "cell_type": "code",
     "collapsed": false,
     "input": [
      "### PLACEHOLDER FOR GRAPHIC ###"
     ],
     "language": "python",
     "metadata": {},
     "outputs": [],
     "prompt_number": 6
    },
    {
     "cell_type": "markdown",
     "metadata": {},
     "source": [
      "**While Loops:** These loops are used to evaluate the body of the loop as long as a certain test is passed. An example would be:"
     ]
    },
    {
     "cell_type": "code",
     "collapsed": false,
     "input": [
      "i = 0\n",
      "while i<10:\n",
      "    print[i]\n",
      "    i = i+2"
     ],
     "language": "python",
     "metadata": {},
     "outputs": [
      {
       "output_type": "stream",
       "stream": "stdout",
       "text": [
        "[0]\n",
        "[2]\n",
        "[4]\n",
        "[6]\n",
        "[8]\n"
       ]
      }
     ],
     "prompt_number": 7
    },
    {
     "cell_type": "markdown",
     "metadata": {},
     "source": [
      "**If Statements:** Used as tests to return different actions. An example of an 'if statement' is:"
     ]
    },
    {
     "cell_type": "code",
     "collapsed": false,
     "input": [
      "i = 2\n",
      "if i==1:\n",
      "    print 'i is equal to 1'\n",
      "else:\n",
      "    print 'i is not equal to 1'"
     ],
     "language": "python",
     "metadata": {},
     "outputs": [
      {
       "output_type": "stream",
       "stream": "stdout",
       "text": [
        "i is not equal to 1\n"
       ]
      }
     ],
     "prompt_number": 38
    },
    {
     "cell_type": "markdown",
     "metadata": {},
     "source": [
      "When we write sophisticated code we might use multiple loops and if statements in conjunction. For instance:"
     ]
    },
    {
     "cell_type": "code",
     "collapsed": false,
     "input": [
      "i=0\n",
      "while i < 3:\n",
      "    if i == 1:\n",
      "        print 'i is equal to 1'\n",
      "    else:\n",
      "        print 'i is not equal to 1, i is', i\n",
      "    i = i+1"
     ],
     "language": "python",
     "metadata": {},
     "outputs": [
      {
       "output_type": "stream",
       "stream": "stdout",
       "text": [
        "i is not equal to 1, i is 0\n",
        "i is equal to 1\n",
        "i is not equal to 1, i is 2\n"
       ]
      }
     ],
     "prompt_number": 39
    }
   ],
   "metadata": {}
  }
 ]
}
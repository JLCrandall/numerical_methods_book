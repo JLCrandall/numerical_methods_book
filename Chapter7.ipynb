{
 "metadata": {
  "name": ""
 },
 "nbformat": 3,
 "nbformat_minor": 0,
 "worksheets": [
  {
   "cells": [
    {
     "cell_type": "markdown",
     "metadata": {},
     "source": [
      "##Singular Value Decomposition\n",
      "\n",
      "The singular value decomposition is closely associated with the eigenvalue-eigenvector factorization $Q \\bigwedge Q^T$ of a positive definite matrix. However, we encounter many matrices that are not positive definite and the decomposition is not true. Consider a rectangular matrix (non-square) matrix, the eigenvalues are not defined in this scenario. If we allow the $Q$ on the left and the $Q$ on the right to be any two orthogonal matrices $U$ and $V^T$, then any matrix will have a decomposition $A=U\\Sigma V^T$. \n",
      "\n",
      "$\\Sigma$ has eigenvalues from $A^TA$, not from $A$. These positive entries will be $\\sigma_1,...,\\sigma_r$. They are the singular values of $A$. They fill the first $r$ places on the main diagonal of $\\Sigma$ when $A$ has rank $r$. The rest of $\\Sigma$ is zero. The columns of $U$ are the eigenvectors of $AA^T$, and the columns of $V$ are the eigenvectors of $A^TA$. The $r$ singular values on the diagonal of $\\Sigma$ are the square roots of the nonzero eigenvalues of both $AA^T$ and $A^TA$.\n",
      "\n",
      "The *SVD* is really good for numerically stable computations, because $U$ and $V$ are orthogonal matrices. They never change the length of a vector. $\\Sigma$ could multiply or divide a vector by a large $\\sigma$, but at least now we have an idea of exactly what is large and what is small. The ratio of $\\sigma_{max} / \\sigma_{min}$ is the *condition number* of a nonsingular matrix. For us as numerical analysists, this might be the most important use of the *SVD*. Other common uses of the *SVD* are listed below:\n",
      "\n",
      "    1. Image processing\n",
      "    2. Effective rank\n",
      "    3. Polar decomposition\n",
      "    4. Least squares\n",
      "    5. Pseudoinverse\n",
      "    \n",
      "and even.. the algorithm that computes eHarmony.com's 29 Dimensions$\\circledR$ of compatability!"
     ]
    },
    {
     "cell_type": "markdown",
     "metadata": {},
     "source": [
      "##SVD Algorithm\n",
      "\n"
     ]
    }
   ],
   "metadata": {}
  }
 ]
}
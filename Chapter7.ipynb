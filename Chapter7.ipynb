{
 "metadata": {
  "name": ""
 },
 "nbformat": 3,
 "nbformat_minor": 0,
 "worksheets": [
  {
   "cells": [
    {
     "cell_type": "markdown",
     "metadata": {},
     "source": [
      "##Singular Value Decomposition\n",
      "\n",
      "The singular value decomposition is closely associated with the eigenvalue-eigenvector factorization $Q \\bigwedge Q^T$ of a positive definite matrix. However, we encounter many matrices that are not positive definite and the decomposition is not true. Consider a rectangular matrix (non-square) matrix, the eigenvalues are not defined in this scenario. If we allow the $Q$ on the left and the $Q$ on the right to be any two orthogonal matrices $U$ and $V^T$, then any matrix will have a decomposition $A=U\\Sigma V^T$. \n",
      "\n",
      "$\\Sigma$ has eigenvalues from $A^TA$, not from $A$. These positive entries will be $\\sigma_1,...,\\sigma_r$. They are the singular values of $A$. They fill the first $r$ places on the main diagonal of $\\Sigma$ when $A$ has rank $r$. The rest of $\\Sigma$ is zero. The columns of $U$ are the eigenvectors of $AA^T$, and the columns of $V$ are the eigenvectors of $A^TA$. The $r$ singular values on the diagonal of $\\Sigma$ are the square roots of the nonzero eigenvalues of both $AA^T$ and $A^TA$.\n",
      "\n",
      "The *SVD* is really good for numerically stable computations, because $U$ and $V$ are orthogonal matrices. They never change the length of a vector. $\\Sigma$ could multiply or divide a vector by a large $\\sigma$, but at least now we have an idea of exactly what is large and what is small. The ratio of $\\sigma_{max} / \\sigma_{min}$ is the *condition number* of a nonsingular matrix. For us as numerical analysists, this might be the most important use of the *SVD*. Other common uses of the *SVD* are listed below:\n",
      "\n",
      "    1. Image processing\n",
      "    2. Effective rank\n",
      "    3. Polar decomposition\n",
      "    4. Least squares\n",
      "    5. Pseudoinverse\n",
      "    \n",
      "and even.. the algorithm that computes eHarmony.com's 29 Dimensions$\\circledR$ of compatability!"
     ]
    },
    {
     "cell_type": "markdown",
     "metadata": {},
     "source": [
      "##SVD Algorithm\n",
      "\n",
      "We already have elementary forms of all the tools required to calculate a symmetric matrix's *SVD*. We can use the *QR* algorithm to find the eigenvalues of the $AA^T$ matrix. Then use the inverse Power Method to find the eigenvectors that correspond to the singular values for both the $AA^T$ and $A^TA$. Finally we can use the Gram-Schmidt method to find an orthogonal basis of these eigenvectors to define the $U$ and $V$ matrices. Consider the following $A$ matrix transformed into an *SVD*, using *Python's* eigenvector, eigenvalue, and *QR* algorithms. We then compare the built in *SVD* algorithm."
     ]
    },
    {
     "cell_type": "code",
     "collapsed": false,
     "input": [
      "A = [(1,4),(2,8)]\n"
     ],
     "language": "python",
     "metadata": {},
     "outputs": [
      {
       "metadata": {},
       "output_type": "pyout",
       "prompt_number": 1,
       "text": [
        "[(1, 4), (2, 8)]"
       ]
      }
     ],
     "prompt_number": 1
    },
    {
     "cell_type": "code",
     "collapsed": false,
     "input": [],
     "language": "python",
     "metadata": {},
     "outputs": []
    },
    {
     "cell_type": "markdown",
     "metadata": {},
     "source": [
      "## Survey of Software for use in Linear Algebra\n",
      "\n",
      "If you ever find the need to write software that uses a lot of matrix manipulations and/or linear systems solving techniques you can use the subroutine library LAPACK and it's accompanying lower-level operations package called BLAS. These package libraries are writting in FORTRAN and can be called from C/C++ or even MATLAB (although they are used internally anyway) programs. They run well on shared memory and parallel processing machines. The following table shows equivalent or nearly equivalent commands between LAPACK, MATLAB, and *Mathematica*. This list is not complete, but shows a few of the operations we have covered while studying numerical techniques for linear systems.\n",
      "\n",
      "\n",
      "| LAPACK | MATLAB | Mathematica |\n",
      "|:--------:|:--------:|:-------------:|\n",
      "|  SGETRF  |    lu    |LUDecomposition|\n",
      "|  SGERTS  |linsolve, \\|  LinearSolve |\n",
      "|  SPOTRF  |\tchol  |CholeskyDecomposition|\n",
      "|  SPOTRI  |\tinv, '|     Inverse,$^T$ |\n",
      "|  SSGEHRD |\thess  |\tHessenburgDecomposition|\n",
      "|  SSTEQR  |\teig\t  | Eigenvalues  |\n",
      "|  STREVC  |\teig   |\tEigenvectors |\n"
     ]
    },
    {
     "cell_type": "code",
     "collapsed": false,
     "input": [],
     "language": "python",
     "metadata": {},
     "outputs": []
    }
   ],
   "metadata": {}
  }
 ]
}
{
 "metadata": {
  "name": ""
 },
 "nbformat": 3,
 "nbformat_minor": 0,
 "worksheets": [
  {
   "cells": [
    {
     "cell_type": "markdown",
     "metadata": {},
     "source": [
      "## Systems of Nonlinear Equations\n",
      "\n",
      "To start our investigation into systems of nonlinear equations, let's consider the pair of nonlinear equations:\n",
      "\n",
      "$ x^2 + y^2 = 4$\n",
      "\n",
      "$e^x + y = 1$\n",
      "\n",
      "If we viewed these equations graphically we will see that these equations intersect near the points $(-1.8,0.8)$ and $(1,-1.7)$."
     ]
    },
    {
     "cell_type": "code",
     "collapsed": false,
     "input": [
      "import numpy as np\n",
      "import Gnuplot\n",
      "\n",
      "x = np.linspace(0,0.5,3)\n",
      "y = np.sqrt(4-x^2)\n",
      "y1 = -np.sqrt(4-x^2)\n",
      "#creates Gnuplot object\n",
      "g = Gnuplot.Gnuplot(persist=1)\n",
      "\n",
      "#creates Gnuplot Data\n",
      "d1 = Gnuplot.Data(x, y1, with_='1p',title='d1')\n",
      "d2 = Gnuplot.Data(x, y2, with_= '1',title='d2')\n",
      "\n",
      "#Gnuplot formatting options\n",
      "g('set grid')\n",
      "g('set key left')\n",
      "\n",
      "#initiates the plot\n",
      "g.plot(d1,d2)\n",
      "\n",
      "#plot=plot[{sqrt{4-x^2}}, -sqrt{4-x^2}, 1-exp{x}, {x, -3, 3}]\n",
      "#plot=plot.range{{-3,3},{-3,3}}"
     ],
     "language": "python",
     "metadata": {},
     "outputs": [
      {
       "ename": "ImportError",
       "evalue": "No module named Gnuplot",
       "output_type": "pyerr",
       "traceback": [
        "\u001b[0;31m---------------------------------------------------------------------------\u001b[0m\n\u001b[0;31mImportError\u001b[0m                               Traceback (most recent call last)",
        "\u001b[0;32m<ipython-input-6-6079e0255d9f>\u001b[0m in \u001b[0;36m<module>\u001b[0;34m()\u001b[0m\n\u001b[1;32m      1\u001b[0m \u001b[0;32mimport\u001b[0m \u001b[0mnumpy\u001b[0m \u001b[0;32mas\u001b[0m \u001b[0mnp\u001b[0m\u001b[0;34m\u001b[0m\u001b[0m\n\u001b[0;32m----> 2\u001b[0;31m \u001b[0;32mimport\u001b[0m \u001b[0mGnuplot\u001b[0m\u001b[0;34m\u001b[0m\u001b[0m\n\u001b[0m\u001b[1;32m      3\u001b[0m \u001b[0;34m\u001b[0m\u001b[0m\n\u001b[1;32m      4\u001b[0m \u001b[0mx\u001b[0m \u001b[0;34m=\u001b[0m \u001b[0mnp\u001b[0m\u001b[0;34m.\u001b[0m\u001b[0mlinspae\u001b[0m\u001b[0;34m(\u001b[0m\u001b[0;36m0\u001b[0m\u001b[0;34m,\u001b[0m\u001b[0;36m0.5\u001b[0m\u001b[0;34m,\u001b[0m\u001b[0;36m3\u001b[0m\u001b[0;34m)\u001b[0m\u001b[0;34m\u001b[0m\u001b[0m\n\u001b[1;32m      5\u001b[0m \u001b[0my\u001b[0m \u001b[0;34m=\u001b[0m \u001b[0mnp\u001b[0m\u001b[0;34m.\u001b[0m\u001b[0msqrt\u001b[0m\u001b[0;34m(\u001b[0m\u001b[0;36m4\u001b[0m\u001b[0;34m-\u001b[0m\u001b[0mx\u001b[0m\u001b[0;34m^\u001b[0m\u001b[0;36m2\u001b[0m\u001b[0;34m)\u001b[0m\u001b[0;34m\u001b[0m\u001b[0m\n",
        "\u001b[0;31mImportError\u001b[0m: No module named Gnuplot"
       ]
      }
     ],
     "prompt_number": 6
    },
    {
     "cell_type": "markdown",
     "metadata": {},
     "source": [
      "We could take a Gauss-Siedel like approach by rearranging the equations as follows:\n",
      "\n",
      "$x = \\pm \\sqrt{4-y^2}$\n",
      "\n",
      "$y=1-e^x$\n",
      "\n",
      "We can use an initial guess $y_0$ to find $x_0$, then $x_0$ to find $y_1$ and so on."
     ]
    },
    {
     "cell_type": "markdown",
     "metadata": {},
     "source": [
      "### Gauss-Siedel like Iteration Example\n",
      "\n",
      "If we do exactly as described above, we have the following using an initial guess of $y_0 = 0.8$. (We are shooting for the leftmost root)"
     ]
    },
    {
     "cell_type": "code",
     "collapsed": false,
     "input": [
      "### INTERACTIVE EXAMPLE ###"
     ],
     "language": "python",
     "metadata": {},
     "outputs": []
    },
    {
     "cell_type": "markdown",
     "metadata": {},
     "source": [
      "It worked! Let's now try an initial guess of $y_0 = -1.7$ and shoot for the rightmost root."
     ]
    },
    {
     "cell_type": "code",
     "collapsed": false,
     "input": [
      "### INTERACTIVE MODEL ###"
     ],
     "language": "python",
     "metadata": {},
     "outputs": []
    },
    {
     "cell_type": "markdown",
     "metadata": {},
     "source": [
      "What happened? Well, the method went unstable and ended up diverging into the imaginary plane. The actual numbers are shown below."
     ]
    },
    {
     "cell_type": "code",
     "collapsed": false,
     "input": [
      "### INTERACTIVE VALUES ###"
     ],
     "language": "python",
     "metadata": {},
     "outputs": [],
     "prompt_number": 2
    },
    {
     "cell_type": "markdown",
     "metadata": {},
     "source": [
      "However, if we simply rewrite the equations as follows:\n",
      "\n",
      "$x = ln(1-y)$\n",
      "\n",
      "$y = \\pm \\sqrt{4-x^2}$\n",
      "\n",
      "We can use the initial guess of $y_0 = -1.7$ and it will converge to this solution."
     ]
    },
    {
     "cell_type": "code",
     "collapsed": false,
     "input": [
      "### Interative Model ###"
     ],
     "language": "python",
     "metadata": {},
     "outputs": []
    },
    {
     "cell_type": "markdown",
     "metadata": {},
     "source": [
      "This example illustrates some of the difficulties that can arise when trying to solve systems of nonlinear equations. Finding a convergent form of the equations gets increasingly difficult as the number of equations gets larger."
     ]
    },
    {
     "cell_type": "markdown",
     "metadata": {},
     "source": [
      "## Newton's Method for Systems of Nonlinear Equations\n",
      "\n",
      "Consider the following systems of two nonlinear equations:\n",
      "\n",
      "$f(x,y) = 0$\n",
      "\n",
      "$g(x,y) = 0$\n",
      "\n",
      "Let $x = r, y = s$ and expand both functions as a Taylor series about the point $(x_i,y_i)$ in terms of $(r-x_i),(s-y_i)$, where $(x_i,y_i)$ is a point near the root. We have:\n",
      "\n",
      "$f(r,s) = f(x_i,y_i) + f_x(x_i,y_i)(r-x_i) + f_y(x_i,y_i)(s-y_i) + ... \\\\\n",
      "g(r,s) = g(x_i,y_i) + g_x(x_i,y_i)(r-x_i) + g_y(x_i,y_i)(s-y_i) + ...$\n",
      "\n",
      "If we keep only the lienar terms we can write the equations in matrix form as:\n",
      "\n",
      "$\\begin{pmatrix}0\\\\0\\end{pmatrix} = \\begin{pmatrix} f(x_i,y_i)\\\\g(x_i,y_i)\\end{pmatrix} + \\begin{pmatrix} f_x(x_i,y_i) & f_y(x_i,y_i)\\\\g_x(x_i,y_i) & g_y(x_i,y_i)\\end{pmatrix}\\begin{pmatrix}r-x_i\\\\s-y_i\\end{pmatrix}$\n",
      "\n",
      "or rearranging, we have:\n",
      "\n",
      "$-\\begin{pmatrix}f(x_i,y_i)\\\\g(x_i,y_i)\\end{pmatrix} = \\begin{pmatrix}f_x(x_i,y_i) & f_y(x_i,y_i)\\\\g_x(x_i,y_i) & g_y(x_i,y_i)\\end{pmatrix}\\begin{pmatrix}\\Delta x_i \\\\ \\Delta y_i \\end{pmatrix}$\n",
      "\n",
      "We can solve the equation above using Gaussian elimination for $(\\Delta x_i, \\Delta y_i)$ then the next approximation becomes:\n",
      "\n",
      "$x_{i+1} = x_{i} + \\Delta x_i \\\\ y_{i+1} = y_{i} + \\Delta y_i$\n",
      "\n",
      "This procedure can be generalized to $n$ number of equations in a straightforward manner."
     ]
    },
    {
     "cell_type": "markdown",
     "metadata": {},
     "source": [
      "### Newton's Method Example\n",
      "\n",
      "Using Newton's method to solve the same example as before, we can see that it will converge to either root with an approximate guess."
     ]
    },
    {
     "cell_type": "code",
     "collapsed": false,
     "input": [
      "### INTERACTIVE EXAMPLE ###"
     ],
     "language": "python",
     "metadata": {},
     "outputs": []
    },
    {
     "cell_type": "code",
     "collapsed": false,
     "input": [
      "### INTERACTIVE EXAMPLE ###"
     ],
     "language": "python",
     "metadata": {},
     "outputs": []
    }
   ],
   "metadata": {}
  }
 ]
}
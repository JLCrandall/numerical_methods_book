{
 "metadata": {
  "name": ""
 },
 "nbformat": 3,
 "nbformat_minor": 0,
 "worksheets": [
  {
   "cells": [
    {
     "cell_type": "markdown",
     "metadata": {},
     "source": [
      "## Householder's Method\n",
      "\n",
      "Householder's Method is a similarity transform. We will use it to find the eigenvalues of a matrix, but it has other uses outside this process. The method is used to find a symmetric tridiagonal matrix $B$ which is similar to a given symmetric matrix $A$. We'll start by defining the *Householder Transformation*:\n",
      "\n",
      "Let $\\bar{w} \\in\\mathbb{R}^n$ with $\\bar{w}\\bar{w}^T = 1$. The $n$x$n$ matrix,\n",
      "\n",
      "$P = I-2 \\bar{w}\\bar{w}^T$\n",
      "\n",
      "This transformation is symmetric and orthogonal, therefore $P^{-1} = P$.\n",
      "\n",
      "Householder's method begins by determining a transform $P^{(1)}$ with the property, $A^{(2)} = P^{(1)} A P^{(1)}$ that has\n",
      "\n",
      "$a_{j1}^{(2)} = 0$, for all $j=3, 4, ..., n$,\n",
      "\n",
      "and by symmetry, $a_{1j}^{(2)} - 0$. The desired outcome of this transformation along with the fact that $\\bar{w}\\bar{w}^T = 1$ by definition, imposes $n$ constraints on the $n$ unknown components of $\\bar{w}$. If we set $w_1 = 0$, then $a_{11}^{(2)} = a_{11}$. Now, we want\n",
      "\n",
      "$P^{(1)} = I - 2\\bar{w}\\bar{w}^T$\n",
      "\n",
      "to satisfy\n",
      "\n",
      "$P^{(1)}(a_{11}, a_{21}, a_{31}, ... a_{n1})^T = (a_{11}, \\alpha, 0, ..., 0)^T$, (*)\n",
      "\n",
      "where $\\alpha$ will be chosen later. Defining some notation:\n",
      "\n",
      "$\\hat{\\bar{w}} = (w_2, w_3, ..., w_n)^T \\in\\mathbb{R}^{n-1},\\\\\\hat{\\bar{y}} = (a_{21}, a_{31}, ..., a_{n1})^T \\in\\mathbb{R}^{n-1},$\n",
      "\n",
      "and $\\hat{P}$ is the $(n-1) x (n-1)$ Householder transformation\n",
      "\n",
      "$\\hat{P} = I_{n-1} - 2\\hat{\\bar{w}}\\hat{\\bar{w}}^T$.\n",
      "\n",
      "witth these definitions, (*) becomes."
     ]
    },
    {
     "cell_type": "code",
     "collapsed": false,
     "input": [],
     "language": "python",
     "metadata": {},
     "outputs": []
    }
   ],
   "metadata": {}
  }
 ]
}
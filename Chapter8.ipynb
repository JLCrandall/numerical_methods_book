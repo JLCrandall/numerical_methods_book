{
 "metadata": {
  "name": ""
 },
 "nbformat": 3,
 "nbformat_minor": 0,
 "worksheets": [
  {
   "cells": [
    {
     "cell_type": "markdown",
     "metadata": {},
     "source": [
      "## Nonlinear Root Finding - Bisection Method\n",
      "\n",
      "The bisection method, sometimes called the binary search method, is a simple method for finding the root, or zero, of a nonlinear equation with one unknown variable. (If the equation is lienar, we can solve for the root algebraically.)\n",
      "\n",
      "If we suppose $f$ is a continuous function defined on the interal $[a,b]$, with $f(a)$ and $f(b)$ of opposite sign (e.g., they appear on opposite sides of the root). There exists a point $p$ within the interval $[a,b]$ with $f(p) = 0$. We start the iteration by choosing a point halfway between $a$ and $b$ and checking the sign of $f(p)$. It will either have the same sign as $f(a)$ or $f(b)$. If the sign of $f(p)$ is the same as $f(a)$. Then $p$ gets set to $a$ and the process is repeated. If the sign of $f(p)$ is the same as $f(b)$, then $p$ gets set to $b$ and the process is repeated.\n",
      "\n",
      "An animation showing the root of the function $f(x) = cos(x) - x^3$ converging to a tolerance of $0.05$ follows:"
     ]
    },
    {
     "cell_type": "code",
     "collapsed": false,
     "input": [
      "### INTERACTIVE MODEL ###"
     ],
     "language": "python",
     "metadata": {},
     "outputs": []
    },
    {
     "cell_type": "markdown",
     "metadata": {},
     "source": [
      "## Psuedocode for Bisection Method\n",
      "\n",
      "The bisection method finds a solution to $f(x) = 0$ where $f$ is continuously defined on the interval $[a,b]$ and $f(a)$ and $f(b)$ have opposite signs:\n",
      "\n",
      "  1. Set $i = 1$\n",
      "  1. Set $FA = f(a)$\n",
      "  1. While $i \\leq $max iterations, do Steps A-F\n",
      "      1. Set $p = a+ \\frac{(b-a)}{2}$\n",
      "      1. Set $FP = f(p)$\n",
      "      1. If $FP = 0$ or $\\frac{(b-a)}{2}$ < TOL, end program, output $p$ as the root.\n",
      "      1. If sign of $(FA) \\cdot$sign$(FP) > 0$, then do steps a-b, else do Step E\n",
      "          1. $a = p$\n",
      "          1. $FA = FP$\n",
      "      1. Else, $b = p$\n",
      "      1. Set $i = i+1$\n",
      "  1. Print \"Method failed to converge after 'max iterations'.\""
     ]
    },
    {
     "cell_type": "markdown",
     "metadata": {},
     "source": [
      "## Other stop procedures and convergence of the Bisection Method.\n",
      "\n",
      "Other stopping procedure can be applied at Step C in the previous pseudocode. For example we can select a tolerance of $\\in$ and generate $p_1, p_2, ... p_N$ until one of the following conditions is met.\n",
      "\n",
      "$ |p_N - p_{N-1}| < \\in$\n",
      "\n",
      "$\\frac{|P_N - p_{N-1}|}{|p_N|} < \\in$\n",
      "\n",
      "$|f(p_N)| < \\in$\n",
      "\n",
      "The Biesection method has the advantage that as long as the root is bounded by the interval $[a,b]$, it will always converge. It has the disadvantage that convergence can be very slow and a good intermediate approximation to the root can be inadvertently discarded. This method is most useful when used to get an initial very rough approximation to a root and then combine it with a method that has faster convergence to get a better approximation to the root. We will talk about these other methods in the upcoming sections.\n",
      "\n",
      "Let's have a look at the convergence rate of this method:\n",
      "\n",
      "Suppose that $f \\in C[a,b] $ and $f(a)\\cdot f(b) < 0$. The Bisection method generates a sequence $\\{p_n - p\\}_{n=1}^\\infty$ approximating a zero $p$ with $f$ with:\n",
      "\n",
      "&nbsp;&nbsp;&nbsp;&nbsp; $|p_n -p| \\leq \\frac{b-a}{2^n}$, when $n\\geq 1$. \n",
      "\n",
      "**Proof:** For each $n\\geq 1$, we have\n",
      "\n",
      "&nbsp;&nbsp;&nbsp;&nbsp; $b_n - a_n = \\frac{1}{2^{n-1}} (b-a) $ and $p \\in (a_n, b_n)$\n",
      "\n",
      "Since $p_n = \\frac{1}{2}(a_n + b_n)$ for all $n \\geq 1$, then \n",
      "\n",
      "&nbsp;&nbsp;&nbsp;&nbsp; $|p_n - p| < \\frac{1}{2}(b_n - a_n) = \\frac{b-a}{2^n}$\n",
      "\n",
      "Since, \n",
      "\n",
      "&nbsp;&nbsp;&nbsp;&nbsp; $|p_n - p| \\leq (b-a)\\frac{1}{2^n}$\n",
      "\n",
      "the sequence $\\{p_n\\}_{n=1}^\\infty$ converges to $p$ with rate of convergence $O(\\frac{1}{2^n})$, i.e. \n",
      "\n",
      "&nbsp;&nbsp;&nbsp;&nbsp; $p_n = p + O(\\frac{1}{2^n})$"
     ]
    },
    {
     "cell_type": "code",
     "collapsed": false,
     "input": [],
     "language": "python",
     "metadata": {},
     "outputs": []
    }
   ],
   "metadata": {}
  }
 ]
}
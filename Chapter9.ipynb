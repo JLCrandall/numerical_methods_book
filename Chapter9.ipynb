{
 "metadata": {
  "name": ""
 },
 "nbformat": 3,
 "nbformat_minor": 0,
 "worksheets": [
  {
   "cells": [
    {
     "cell_type": "markdown",
     "metadata": {},
     "source": [
      "## Roots of Polynomials\n",
      "\n",
      "Consider the following polynomial:\n",
      "\n",
      "$P(x) = a_n x^n + a_{n-1}x^{n-1} + ... + a_1x+a_0$\n",
      "\n",
      "We know that this polynomial will have $n$ roots. These roots may be complex but have a multiplicity greater than 1. If we take an initial guess to one of the roots, $x_0$ we can use the process of *synthetic division* to factor the equation into the following form:\n",
      "\n",
      "$ P(x) = (x-x_0)(b_nx^{n-1} + b_{n-1}x^{n-2} + ... + b_2x+b_1)+b_0$\n",
      "\n",
      "Or we let $Q(x) = b_n x^{n-1} + b_{n-1}x^{n-2} + ... + b_2 x + b_1$ we have:\n",
      "\n",
      "$ P(x) = (x-x_0)Q(x)+b_0$ (*)\n",
      "\n",
      "Let's take the first derivative of (*), we get\n",
      "\n",
      "$P'(x) = Q(x) + (x-x_0)Q'(x)$ and\n",
      "\n",
      "$P'(x_0) = Q(x_0)$\n",
      "\n",
      "We have enough information to solve for one iteration of the root near $x_0$ using Newton's method:\n",
      "\n",
      "$x_1 = x_0 - \\frac{P(x_0)}{P'(x_0)} = x_0 - \\frac{b_0}{Q(x_0)}$."
     ]
    },
    {
     "cell_type": "markdown",
     "metadata": {},
     "source": [
      "## Synthetic Division\n",
      "\n",
      "We will perform the synthetic division by creating a table as follows:\n",
      "\n",
      "$$\n",
      "\\begin{matrix} x_0 & | & a_n & a_{n-1} & a_{n-2} & ... & a_0\\\\ & | & 0 & b_nx_0 & b_{n-1}x_{0} & ... & b_1x_0\\\\ - & | & ---- & --------- & --------- & --- & ------- \\\\ Q(x)+b_0 & | & b_n = a_n & b_{n-1} = a_{n-1}+b_nx_0 & b_{n-2}=a_{n-2}+b_{n-1}x_{0} & ... & b_0=a_1+b_2x_0 \\end{matrix}\n",
      "$$\n",
      "\n",
      "So if we perform this procedure on $P(x)$ we find that $P(x_0) = b_0$ is the result in the lower right corner. We can find $P'(x_0) = Q(x_0)$ in a similar fashion by performing the synthetic division on $Q(x)$."
     ]
    },
    {
     "cell_type": "markdown",
     "metadata": {},
     "source": [
      "## Horner's Method (pseudocode)\n",
      "\n",
      "The numerical automation of this synthetic division procedure is called Horner's method. The pseudocode for this procedure is given blow:\n",
      "\n",
      "To evaluate the polynomial $P(x) = a_n x^n + a_{n-1}x^{n-1} + ... a_{1}x + a_0$ and it's derivative at $x_0$. We will input the coefficients $a_0, a_1, ..., a_n; x_0$ and the function will return $P(x_0)$ and $P'(x_0)$.\n",
      "\n",
      "  1. Set $y=a_n$ (will become $P(x_0)$)\n",
      "  1. Set $z=a_n$ (will become $P'(x_0)$)\n",
      "  1. For $j=n-1, n-2, ... 1$ do Steps A-B\n",
      "    1. $y = x_0 y+a_j$\n",
      "    1. $z = x_0 z+y$\n",
      "  1. Set $y = x_0y+a_0$"
     ]
    },
    {
     "cell_type": "markdown",
     "metadata": {},
     "source": [
      "## Deflation\n",
      "\n",
      "once Newton's method converges to some tolerance we are left with the $N^{\\text{th}}$ iteration which we say approximates one of the roots of $P(x)$. Then, \n",
      "\n",
      "$P(x) = (x-x_N)Q(x) + b_0 = (x-x_N)Q(x) + P(x_N) \\approx (x-x_N)Q(x)$\n",
      "\n",
      "So $(x-x_N)$ is an approximate factor of $P(x)$. If we let $\\hat{x}_1 = x_{N}$ we can say,\n",
      "\n",
      "$P(x) \\approx (x-\\hat{x}_1)Q_{1}(x)$\n",
      "\n",
      "We can find a second approximate root of $P(x)$ by applying Newton's method to $Q_1(x)$, which will yield the equation:\n",
      "\n",
      "$P(x) \\approx (x- \\hat{x}_1)(x-\\hat{x}_2)Q_2(x)$\n",
      "\n",
      "We can continue this procedure until $Q_{n-2}(x)$ is formed and then solve the resulting second order polynomial with the quadratic equation. The method outlined above will work to find the roots of $P(x)$ even if the roots are complex numbers if complex arithmetic is used from the beginning in performing the synthetic division. For our applications we will not consider any polynomials with more than one conjugate pair of complex roots (which we can find with the quadratic formula). The technique outlined above is called deflation."
     ]
    },
    {
     "cell_type": "markdown",
     "metadata": {},
     "source": [
      "## M$\\ddot{\\text{u}}$ller's Method\n",
      "\n",
      "M$\\ddot{\\text{u}}$ller's method is a generalization of the secant method. Instead of doing a linear interpolation between two points we do a quadratic interpolation between three points. M$\\ddot{\\text{u}}$ller's method can be used to solve for the root of an arbitrary function much like Newton's method or Secant method, but it is particularly useful in solving for roots of polynomials. Since we are essentially solving the quadratic equation each time we can easily find complex roots. If using Newton's method an initial guess that is a real number will only converge to real numbers; however, when using M$\\ddot{\\text{u}}$ller's method an initial guess that is a real number will converge to a complex root if it is the closest. Let us consider the quadratic polynomial (the equation of a parabola)\n",
      "\n",
      "$P(x) = a(x-x_2)^2 + b(x-x_2) +c$\n",
      "\n",
      "that passes through the point $(x_0,f(x_0)),(x_1,f(x_1)),$ and $(x_2, f(x_2))$. The constants $a, b,$ and $c$ can be determined by the conditions:\n",
      "\n",
      "$$\n",
      "f(x_0) = a(x_0 - x_2)^2 + b(x_0 - x_2) + c\\\\\n",
      "f(x_1) = a(x_1 - x_2)^2 + b(x_1 - x_2) + c\\\\\n",
      "f(x_2) = a(x_2 - x_2)^2 + b(x_2 - x_2) + c\n",
      "$$\n",
      "\n",
      "Solving these equations simultaneously for $a, b,$ and $c$. We have:\n",
      "\n",
      "$$\n",
      "a = \\frac{(x_0 - x_2)^2(f(x_1)-f(x_2))-(x_1-x_2)^2(f(x_0)-f(x_2))}{(x_0 - x_2)(x_1 - x_2)(x_0 - x_1)}\\\\\n",
      "b = \\frac{(x_1-x_2)(f(x_0)-f(x_2))-(x_0-x_2)(f(x_1)-f(x_2))}{(x_0 - x_2)(x_1 - x_2)(x_0 - x_1)}\\\\\n",
      "c = f(x_2)\n",
      "$$\n",
      "\n",
      "because of roundoff error problems that result from subtracting nearly equal numbers we apply the quadratic formula in a slightly different way, a root of $P(x)$ is:\n",
      "\n",
      "$x - x_2 = x_3 - x_2 = \\frac{-2c}{b\\pm\\sqrt{b^2 - 4ac}}$\n",
      "\n",
      "this gives two possibilities for $x_3$, depending on the sign preceding the radical. We will force the sign preceding the radical to be the same as the sign of $b$ so that the denominator will be largest in magnitude and will result in $x_3$ being selected as the closest zero of $P(x)$ to $x_2$.\n",
      "\n",
      "$x_3 = x_2 - \\frac{2c}{b+\\text{sign}(b)\\sqrt{b^2-4ac}}$\n",
      "\n",
      "Once $x_3$ is determined we start the procedure over, this time using $x_1, x_2,$ and $x_3$ in place of $x_0, x_1,$ and $x_2$ until some convergence criterion has been met. You can see that if $b^2 - 4ac < 0$, this method will result in a complex root."
     ]
    },
    {
     "cell_type": "code",
     "collapsed": false,
     "input": [
      "### INTERATIVE GRAPHICS ###"
     ],
     "language": "python",
     "metadata": {},
     "outputs": []
    },
    {
     "cell_type": "markdown",
     "metadata": {},
     "source": [
      "## Pseudocode for M$\\ddot{\\text{u}}$ller's Method\n",
      "\n",
      "To find a solution to $f(x) = 0$ given initial guesses $x_0, x_1 \\text{and } x_2$:\n",
      "\n",
      "  1. Set $h_1 = x_1 - x_0$\n",
      "  1. Set $h_2 = x_2 - x_1$\n",
      "  1. Set $\\delta_1 = \\frac{(f(x_1)-f(x_0))}{h_1}$\n",
      "  1. Set $\\delta_2 = \\frac{(f(x_2)-f(x_1))}{h_2}$\n",
      "  1. Set $d = \\frac{\\delta_2-\\delta_1}{h_2 +h_1}$\n",
      "  1. Set $i = 3$\n",
      "  1. While $i \\leq max\\text{ } iterations$, do Steps A-P\n",
      "    1. Set $b = \\delta_2 + h_2 d$\n",
      "    1. Set $D = (b^2 - 4f(x_2)d)^{1/2}$\n",
      "    1. If $|b-D| < |b+D|$ do Step a\n",
      "    \n",
      "      &nbsp;&nbsp;a. Set $E = b+D$\n",
      "    1. Else do Step b\n",
      "      \n",
      "      &nbsp;&nbsp;b. Set $E = b-D$\n",
      "    1. Set $h = -2f(x_2)/E$\n",
      "    1. Set $p = x_2 + h$\n",
      "    1. If $|h| < $TOL then end the program and output $p$ as the root\n",
      "    1. Set $x_0 = x_1$\n",
      "    1. Set $x_1 = x_2$\n",
      "    1. Set $x_2 = p$\n",
      "    1. Set $h_1 = x_1 - x_0$\n",
      "    1. Set $h_2 = x_2 - x_1$\n",
      "    1. Set $\\delta_1 = \\frac{f(x_1) - f(x_0)}{h_1}$\n",
      "    1. Set $\\delta_2 = \\frac{f(x_2) - f(x_1)}{h_2}$\n",
      "    1. Set $d = \\frac{\\delta_2 - \\delta_1}{h_2 + h_1}$\n",
      "    1. Set $i = i + 1$\n",
      "  1. Print \"Method failed to converge after '$max\\text{ } iterations$'.\""
     ]
    },
    {
     "cell_type": "markdown",
     "metadata": {},
     "source": [
      "## Deflation with M$\\ddot{\\text{u}}$ller's Method\n",
      "\n",
      "Just as we discussed the use of Newton's method with deflation we can use the same technique to solve for all the roots, both real and complex, of a polynomial using M$\\ddot{\\text{u}}$ller's method. We start with an initial guess to a root, solve for that root using M$\\ddot{\\text{u}}$ller's method, then use synthetic division to reduce the polynomial by one order and repeat the process. For a truly robust algorithm it is recommended that after finding the root of the deflation equation, one should go back and use the deflated root as an initial guess in the full polynomial. This ensures that the root is a root of the original polynomial not the deflated one and avoids the trouble of roundoff error."
     ]
    },
    {
     "cell_type": "code",
     "collapsed": false,
     "input": [],
     "language": "python",
     "metadata": {},
     "outputs": []
    }
   ],
   "metadata": {}
  }
 ]
}
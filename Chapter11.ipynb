{
 "metadata": {
  "name": ""
 },
 "nbformat": 3,
 "nbformat_minor": 0,
 "worksheets": [
  {
   "cells": [
    {
     "cell_type": "markdown",
     "metadata": {},
     "source": [
      "## Numerical Differentiation\n",
      "\n",
      "The derivative of the function $f$ at $x_0$ is\n",
      "\n",
      "$f'(x_0) = lim_{h\\rightarrow 0} \\frac{f(x_{0}+h)-f(x_0)}{h}$.\n",
      "\n",
      "The formula gives us an easy way to generate an approximate to $f'(x)$; compute\n",
      "\n",
      "$\\frac{f(x_0 +h)-f(x_0)}{h}$\n",
      "\n",
      "for small values of $h$. This method seems obvious, but unfortunately it is not very accurate due to roundoff error.\n",
      "\n",
      "If a function is reasonably well approximated by an interpolating polynomial, we should expect the slope of the function to also be approximated by the slope of the polynomial. So we'll start with considering a divided-difference polynomial for approximating a polynomial."
     ]
    },
    {
     "cell_type": "markdown",
     "metadata": {},
     "source": [
      "Divided-difference polynomials\n",
      "\n",
      "Assume that a function $f(x)$ is known at several distinct values of $x$.\n",
      "\n",
      "$\\begin{matrix} x_0 & f_0\\\\x_1 & f_1\\\\x_2 & f_2\\\\x_3 & f_3\\end{matrix}$\n",
      "\n",
      "The $x$'s need not be equispaced nor even arranged in a monotonic order. Consider the $n^{th}$ degree polynomial:\n",
      "\n",
      "$P_n(x) = a_0 + (x-x_0)a_1 + (x-x_0)(x-x_1)a_2 + ... + (x-x_0)(x-x_1)...(x-x_{n-1})a_{n}$. \n",
      "\n",
      "If we chose the $a_i$ so that $P_n(x)$ equals $f(x)$ at the $n+1$ known points, $x_0, x_1, ..., x_n$, the $P_n(x)$ is an interpolating polynomial. The $a_i$ can be readily determined by using what are called the divided differences of the tabulated values. We will use the notation:\n",
      "\n",
      "$f[x_0,x_1] = \\frac{f_1-f_0}{x_1-x_0}$\n",
      "\n",
      "This is called the first divided difference between $x_0$ and $x_1$.\n",
      "\n",
      "$f[x_1,x_2] = \\frac{f_2-f_1}{x_2-x_1}$\n",
      "\n",
      "is called the first divided difference between $x_1$ and $x_2$. In general, \n",
      "\n",
      "$f[x_s,x_t] = \\frac{f_t-f_s}{x_t-x_s}$\n",
      "\n",
      "is the first divided difference between $x_s$ and $x_t$. Second- and higher-order differences are defined in terms of lower-order differences. For example:\n",
      "\n",
      "$f[x_0,x_1,x_2] = \\frac{f[x_1,x_2]-f[x_0,x_1]}{x_2-x_0}$,\n",
      "\n",
      "$f[x_0,x_1,...,x_i] = \\frac{f[x_1,x_2,...,x_i]-f[x_0,x_1,...,x_{i-1}]}{x_{i}-x_0}$\n",
      "\n",
      "We can construct a table with these divided differences, an example:\n",
      "\n",
      "$$\n",
      "\\begin{matrix} x_i & f_i & f[x_i, x_{i+1}] & f[x_i,x_{i+1},x_{i+2}] & f[x_i, x_{i+1}, x_{i+2},x_{i+3}] & f[x_i, x_{i+1}, x_{i+2}, x_{i+3}, x_{i+4}]\\\\\n",
      "3.2 & 22.0\\\\\n",
      "2.7 & 17.8 & 8.4\\\\\n",
      "1.0 & 14.2 & 2.118 & 2.856\\\\\n",
      "4.8 & 38.3 & 6.342 & 2.012 & -0.528\\\\\n",
      "5.6 & 51.7 & 16.750 & 2.263 & 0.0865 & 0.256\\end{matrix}\n",
      "$$\n",
      "\n",
      "## Divided-difference polynomials\n",
      "\n",
      "We can now find the $a_i$'s. We have,\n",
      "\n"
     ]
    },
    {
     "cell_type": "code",
     "collapsed": false,
     "input": [],
     "language": "python",
     "metadata": {},
     "outputs": []
    }
   ],
   "metadata": {}
  }
 ]
}
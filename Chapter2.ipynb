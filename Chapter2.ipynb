{
 "metadata": {
  "name": ""
 },
 "nbformat": 3,
 "nbformat_minor": 0,
 "worksheets": [
  {
   "cells": [
    {
     "cell_type": "markdown",
     "metadata": {},
     "source": [
      "## Solving Systems of Linear Equations\n",
      "\n",
      "\n",
      "Recall the three basic rules for matrix manipulation from linear algebra:\n",
      "\n",
      "    1. Switching two rows or columns does not change the solution of the linear system.\n",
      "    2. Any row can be multiplied by a constant without changing the solution of the linear system.\n",
      "    3. Any row or linear multiple of a row can be added/subtracted to/from another row without changing the solution of the linear system.\n",
      "        \n",
      "Consider the system of equations:\n",
      "\n",
      "3 $x_1$ + 8 $x_2$ = 10\n",
      "   \n",
      "4 $x_1$ + 6 $x_2$ = 2\n",
      "\n",
      "We can write in matrix form:\n",
      "\n",
      "$$\n",
      "\\begin{pmatrix}\n",
      "3 & 8 & 10\\\\ 4 & 6 & 2\n",
      "\\end{pmatrix}\n",
      "$$\n",
      "\n",
      "We can multiply the 1st row by -4/3 and add it to the 2nd equation, etc...\n",
      "\n",
      "$$\n",
      "-\\frac{4}{3}\n",
      "\\begin{pmatrix}\n",
      "3 & 8 & 10 \\\\ 4 & 6 & 2\n",
      "\\end{pmatrix} \\rightarrow  \n",
      "\\begin{pmatrix}\n",
      "-4 & -\\frac{32}{3} & -\\frac{40}{3} \\\\ 4 & 6 & 2\n",
      "\\end{pmatrix} \\rightarrow \n",
      "\\begin{pmatrix}\n",
      "-4 & -\\frac{32}{3} & -\\frac{40}{3} \\\\ 0 & -\\frac{14}{3} & -\\frac{34}{3}\n",
      "\\end{pmatrix} \\rightarrow\n",
      "\\begin{matrix} - \\frac{1}{4} \\\\ -\\frac{3}{14} \\end{matrix}\n",
      "\\begin{pmatrix}\n",
      "-4 & -\\frac{32}{3} & -\\frac{40}{3} \\\\ 0 & -\\frac{14}{3} & -\\frac{34}{3}\n",
      "\\end{pmatrix} \\rightarrow\n",
      "\\begin{pmatrix}\n",
      "1 & \\frac{8}{3} & \\frac{10}{3} \\\\ 0 & 1 & \\frac{17}{7}\n",
      "\\end{pmatrix}\n",
      "$$\n",
      "\n",
      "By inspection we can see that $x_2 = \\frac{17}{2}$ we can then substitue this solution into a modified first equation\n",
      "\n",
      "$$\n",
      "x_1 + \\frac{8}{3}x_2 = \\frac{10}{3}\n",
      "$$\n",
      "\n",
      "and solve for $x_1$. The final solution is $x_1 = -\\frac{22}{7}$,  $x_2 = \\frac{17}{7}$. \n",
      "\n",
      "This procedure is called Gaussian elimination."
     ]
    },
    {
     "cell_type": "code",
     "collapsed": false,
     "input": [],
     "language": "python",
     "metadata": {},
     "outputs": []
    }
   ],
   "metadata": {}
  }
 ]
}
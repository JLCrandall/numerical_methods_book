{
 "metadata": {
  "name": ""
 },
 "nbformat": 3,
 "nbformat_minor": 0,
 "worksheets": [
  {
   "cells": [
    {
     "cell_type": "markdown",
     "metadata": {},
     "source": [
      "##The Eigenvalue Problem\n",
      "\n",
      "The eigenvalue problem was discussed previously in conjunction with the convergence of iterative methods in the solution of linear systems. As engineers we are often introduced to the eigenproblem in mechanics courses as the principal values and directions of the moment of inertia tensor, the stress and strain tensors, and as natural frequencies and modes in vibration theory. From a mathematical standpoint the eigenproblem can provide an elegant method viewing the structure of a matrix. A more formal introduction to the problem and the moethods one might use to solve the eigenproblem is the subject of the next Chapter.\n",
      "\n",
      "First, a short refresher. Suppose a scalar, $\\lambda$, and a vector $\\bar{x}$ are found to satisfy the matrix equation:\n",
      "\n",
      "$A\\bar{x}=\\lambda\\bar{x}$\n",
      "\n",
      "Then $\\lambda$ is said to be an *eigenvalue* and $\\bar{x}$ an *eigenvector* of $A$. We can rearrange this equation to be in the equivalent form:\n",
      "\n",
      "$(A-\\lambda I)\\bar{x} = 0$\n",
      "\n",
      "In order for a non-trivial solution to exist then,\n",
      "\n",
      "$\\det(A-\\lambda I) = 0$\n",
      "\n",
      "which results in a polynomial equation in $\\lambda$ known as the *characteristic polynomial*. The roots of the characteristic polynomial can be found to solve for the eigenvalues of $A$. This would be a very direct method for finding the eigenvalues of $A$ and typically how we may have been taught to do it in vibrations class or when solving for principal stresses in mechanics and materials. However, for large $A$, the problem becomes intractable to proceed by hand and we must resort to the computer for help. The problem is, that finding determinants of matrices is somewhat computationally expensive and finding good approximations to the roots of the characteristic polynomail can be difficult (we shall see when we cover nonlinear root solving). There are other computational ways of estimating the eigenvalues of a matrix, these methods are discussed in the following slides."
     ]
    },
    {
     "cell_type": "code",
     "collapsed": false,
     "input": [],
     "language": "python",
     "metadata": {},
     "outputs": []
    }
   ],
   "metadata": {}
  }
 ]
}
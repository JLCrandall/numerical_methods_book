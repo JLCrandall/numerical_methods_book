{
 "metadata": {
  "name": ""
 },
 "nbformat": 3,
 "nbformat_minor": 0,
 "worksheets": [
  {
   "cells": [
    {
     "cell_type": "markdown",
     "metadata": {},
     "source": [
      "##The Eigenvalue Problem\n",
      "\n",
      "The eigenvalue problem was discussed previously in conjunction with the convergence of iterative methods in the solution of linear systems. As engineers we are often introduced to the eigenproblem in mechanics courses as the principal values and directions of the moment of inertia tensor, the stress and strain tensors, and as natural frequencies and modes in vibration theory. From a mathematical standpoint the eigenproblem can provide an elegant method viewing the structure of a matrix. A more formal introduction to the problem and the moethods one might use to solve the eigenproblem is the subject of the next Chapter.\n",
      "\n",
      "First, a short refresher. Suppose a scalar, $\\lambda$, and a vector $\\bar{x}$ are found to satisfy the matrix equation:\n",
      "\n",
      "$A\\bar{x}=\\lambda\\bar{x}$\n",
      "\n",
      "Then $\\lambda$ is said to be an *eigenvalue* and $\\bar{x}$ an *eigenvector* of $A$. We can rearrange this equation to be in the equivalent form:\n",
      "\n",
      "$(A-\\lambda I)\\bar{x} = 0$\n",
      "\n",
      "In order for a non-trivial solution to exist then,\n",
      "\n",
      "$\\det(A-\\lambda I) = 0$\n",
      "\n",
      "which results in a polynomial equation in $\\lambda$ known as the *characteristic polynomial*. The roots of the characteristic polynomial can be found to solve for the eigenvalues of $A$. This would be a very direct method for finding the eigenvalues of $A$ and typically how we may have been taught to do it in vibrations class or when solving for principal stresses in mechanics and materials. However, for large $A$, the problem becomes intractable to proceed by hand and we must resort to the computer for help. The problem is, that finding determinants of matrices is somewhat computationally expensive and finding good approximations to the roots of the characteristic polynomail can be difficult (we shall see when we cover nonlinear root solving). There are other computational ways of estimating the eigenvalues of a matrix, these methods are discussed in the following slides."
     ]
    },
    {
     "cell_type": "markdown",
     "metadata": {},
     "source": [
      "##The Power Method\n",
      "\n",
      "The Power Method is an iterative technique used to determine the eigenvalue of largest magnitude in a matrix. Once this method is understood, we will modify it slightly to determine other eigenvalues. This method also produces an associate eigenvector. Sometimes this method is used to find an eigenvector when an eigenvalue is known or found by other means. Let us assume that an $nxn$ matrix $A$ has $n$ eigenvalues, $\\lambda_1, \\lambda_2, ..., \\lambda_n$ with an associated collection of linearly independent eigenvectors $\\bar{v}_1, \\bar{v}_2, ...,\\bar{v}_n$. Let us also make the assumption that $\\lambda_1$ is the largest in magnitude, meaning $|\\lambda_1| > |\\lambda_2| \\geq ... \\geq |\\lambda_n|$. If we define a vector $\\bar{x}$ in $\\mathbb{R}^n$, becausethe eigenvectors are linear independent, it implies that constants $\\beta_1, \\beta_2, ..., \\beta_n$ exist such that,\n",
      "\n",
      "$\\bar{x} = \\sum_{j=1}^n\\beta_j\\bar{v}_j$\n",
      "\n",
      "Multiplying this equation on both sides by $A, A^2, ..., A^k$ we have:\n",
      "\n",
      "$$\n",
      "A\\bar{x} = \\sum_{j=1}^n\\beta_jA\\bar{v}_j = \\sum_{j=1}^n\\beta_j\\lambda_j\\bar{v}_j\\\\\n",
      "A^2\\bar{x} = \\sum_{j=1}^n\\beta_jA\\bar{v}_j = \\sum_{j=1}^n\\beta_j\\lambda_j^2\\bar{v}_j\\\\\n",
      "\\vdots\\\\\n",
      "A^k\\bar{x} = \\sum_{j=1}^n\\beta_jA\\bar{v}_j = \\sum_{j=1}^n\\beta_j\\lambda_j^k\\bar{v}_j\\\\\n",
      "$$\n",
      "\n",
      "Now let us factor out $\\lambda_1^k$ from the right hand side of the last equation.\n",
      "\n",
      "$A^k\\bar{x} = \\lambda_1^k\\sum_{j=1}^n\\beta_j(\\frac{\\lambda_j}{\\lambda_1})^k\\bar{v}_j$\n",
      "\n",
      "Now take the limit of both sides as $k \\rightarrow \\infty$.\n",
      "\n",
      "$\\lim_{k\\rightarrow\\infty}A^k\\bar{x} = lim_{k\\rightarrow\\infty}\\lambda_1^k\\sum_{j=1}^n\\beta_j(\\frac{\\lambda_j}{\\lambda_1})^k\\bar{v}_j$\n",
      "\n",
      "For $j = 2, 3, ..., n$ we have $lim_{k\\rightarrow\\infty}(\\frac{\\lambda_j}{\\lambda_1})^k = 0$ because $|\\lambda_1| > |\\lambda_j|$, that leaves\n",
      "\n",
      "$lim_{k\\rightarrow\\infty}A^k\\bar{x} = lim_{k\\rightarrow\\infty}\\lambda_1^k\\beta_1\\bar{v}_1$\n",
      "\n",
      "The final equation convergest to $0$ if $|\\lambda_1| < 1$ and diverges if $|\\lambda_1| >1$.\n",
      "\n",
      "Looking at the final relationship we can scale the powers of $A^k\\bar{x}$ in a manner which ensures that the limit is always finite and non-zero. The scaling begins by chosing $\\bar{x}$ to be a unit vector, $\\bar{x}^{(0)}$, relative to the infinity norm and chosing a component $x_{p_0}^{(0)}$ of $\\bar{x}^{(0)}$ such that:\n",
      "\n",
      "$x_{p_0}^{(0)}= 1 = ||\\bar{x}^{(0)}||_\\infty$\n",
      "\n",
      "Now, we let $\\bar{y}^{(1)}=A\\bar{x}^{(0)}$, and define $\\mu^{(1)} = y_{p_0}^{(1)}$. Then,\n",
      "\n",
      "$$\n",
      "\\mu^{(1)} = y_{p_0}^{(1)} = \\frac{y_{p_0}^{(1)}}{x_{p_0}^{(0)}} = \\frac{\\beta_1\\lambda_1 v_{p_0}^{(1)} + \\sum_{j=2}^n \\beta_j \\lambda_j v_{p_0}^{(j)}}{\\beta_1 v_{p_0}^{(1)} + \\sum_{j=2}^n \\beta_j v_{p_0}^{(j)}} = \\lambda_1 \\left[\\frac{\\beta_1 \\lambda_1 v_{p_0}^{(1)} + \\sum_{j=2}^n \\beta_j (\\frac{\\lambda_j}{\\lambda_1}) v_{p_0}^{(j)}}{\\beta_1 v_{p_0}^{(1)} + \\sum_{j=2}^n \\beta_j v_{p_0}^{(j)}}\\right]\n",
      "$$\n",
      "\n",
      "Let $p_1$ be the smallest integer such that\n",
      "\n",
      "$|y_{p_1}^{(1)}| = ||\\bar{y}^{(1)}||_\\infty$\n",
      "\n",
      "finally we define $\\bar{x}^{(1)}$ as \n",
      "\n",
      "$\\bar{x}^{(1)} = \\frac{1}{y_{p_1}^{(1)}}\\bar{y}^{(1)} = \\frac{1}{y_{p_1}^{(1)}}A\\bar{x}^{(0)}$\n",
      "\n",
      "then,\n",
      "\n",
      "$x_{p_1}^{(1)} = 1 = ||\\bar{x}^{(1)}||_\\infty$"
     ]
    },
    {
     "cell_type": "markdown",
     "metadata": {},
     "source": []
    }
   ],
   "metadata": {}
  }
 ]
}